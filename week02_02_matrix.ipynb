{
  "nbformat": 4,
  "nbformat_minor": 0,
  "metadata": {
    "colab": {
      "provenance": [],
      "authorship_tag": "ABX9TyNrew228VndX/k9J4r8s5aE",
      "include_colab_link": true
    },
    "kernelspec": {
      "name": "python3",
      "display_name": "Python 3"
    },
    "language_info": {
      "name": "python"
    }
  },
  "cells": [
    {
      "cell_type": "markdown",
      "metadata": {
        "id": "view-in-github",
        "colab_type": "text"
      },
      "source": [
        "<a href=\"https://colab.research.google.com/github/kmahatma/ssmi-patternrecognition/blob/main/week02_02_matrix.ipynb\" target=\"_parent\"><img src=\"https://colab.research.google.com/assets/colab-badge.svg\" alt=\"Open In Colab\"/></a>"
      ]
    },
    {
      "cell_type": "code",
      "execution_count": 4,
      "metadata": {
        "colab": {
          "base_uri": "https://localhost:8080/"
        },
        "id": "zHxO4yVSsPWq",
        "outputId": "2c02be9d-772b-4473-de65-7bfb3b889f19"
      },
      "outputs": [
        {
          "output_type": "stream",
          "name": "stdout",
          "text": [
            "Matriks 4x5 dari vektor 1D:\n",
            " [[ 1  2  3  4  5]\n",
            " [ 6  7  8  9 10]\n",
            " [11 12 13 14 15]\n",
            " [16 17 18 19 20]]\n"
          ]
        }
      ],
      "source": [
        "# 2.\tMatrix\n",
        "# Matriks adalah basic 2D table dari data dan dapat berisi nilai numerik dan/atau karakter.\n",
        "# Dapat dibuat dengan cara sederhana dengan membuat urutan dari vektor, mengubah dari vektor atau membaca dari file\n",
        "\n",
        "# mengubah dari 1D menjadi matrik 2D\n",
        "# Import numpy\n",
        "import numpy as np\n",
        "\n",
        "# Generate a 1D array\n",
        "a = np.arange(1, 21, 1)\n",
        "\n",
        "# Reshape into a 2D matrix (4 rows, 5 columns)\n",
        "c = a.reshape((4, 5))\n",
        "\n",
        "# Print the matrix\n",
        "print(\"Matriks 4x5 dari vektor 1D:\\n\", c)"
      ]
    },
    {
      "cell_type": "code",
      "source": [],
      "metadata": {
        "id": "-xGxMvW7sjar"
      },
      "execution_count": null,
      "outputs": []
    }
  ]
}