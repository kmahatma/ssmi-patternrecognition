{
  "nbformat": 4,
  "nbformat_minor": 0,
  "metadata": {
    "colab": {
      "provenance": [],
      "authorship_tag": "ABX9TyMAvaGA0wtUgnHR7J6bhQwx",
      "include_colab_link": true
    },
    "kernelspec": {
      "name": "python3",
      "display_name": "Python 3"
    },
    "language_info": {
      "name": "python"
    }
  },
  "cells": [
    {
      "cell_type": "markdown",
      "metadata": {
        "id": "view-in-github",
        "colab_type": "text"
      },
      "source": [
        "<a href=\"https://colab.research.google.com/github/kmahatma/ssmi-patternrecognition/blob/main/week02_04_dataframe.ipynb\" target=\"_parent\"><img src=\"https://colab.research.google.com/assets/colab-badge.svg\" alt=\"Open In Colab\"/></a>"
      ]
    },
    {
      "cell_type": "code",
      "execution_count": 3,
      "metadata": {
        "colab": {
          "base_uri": "https://localhost:8080/"
        },
        "id": "aVkzrjlC0FHE",
        "outputId": "5f6e45af-bd3f-4be5-d8ce-ec1d90db2eef"
      },
      "outputs": [
        {
          "output_type": "stream",
          "name": "stdout",
          "text": [
            "   a  b  c\n",
            "0  1  2  3\n",
            "1  4  5  6\n",
            "2  7  8  9\n"
          ]
        }
      ],
      "source": [
        "# 4.\tdata.Frame\n",
        "# Data frame adalah spesialisasi dari tipe list untuk menyimpan vektor ke dalam bentuk frame (menyerupai basis data).\n",
        "# Kelebihan dibandingkan matriks adalah dapat dimanipulasi dalam berbagai bentuk dan cara.\n",
        "\n",
        "# data frame\n",
        "import numpy as np\n",
        "import pandas as pd\n",
        "\n",
        "# membuat DataFrame dari sebuah array NumPy\n",
        "df = pd.DataFrame(np.array([[1, 2, 3], [4, 5, 6], [7, 8, 9]]), columns=['a', 'b', 'c'])\n",
        "\n",
        "print(df)\n"
      ]
    },
    {
      "cell_type": "code",
      "source": [],
      "metadata": {
        "id": "-GZkN8Cp0qcu"
      },
      "execution_count": null,
      "outputs": []
    }
  ]
}