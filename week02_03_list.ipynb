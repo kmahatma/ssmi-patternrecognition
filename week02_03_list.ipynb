{
  "nbformat": 4,
  "nbformat_minor": 0,
  "metadata": {
    "colab": {
      "provenance": [],
      "authorship_tag": "ABX9TyMcIVZLbzFojW+txqOs9r4Z",
      "include_colab_link": true
    },
    "kernelspec": {
      "name": "python3",
      "display_name": "Python 3"
    },
    "language_info": {
      "name": "python"
    }
  },
  "cells": [
    {
      "cell_type": "markdown",
      "metadata": {
        "id": "view-in-github",
        "colab_type": "text"
      },
      "source": [
        "<a href=\"https://colab.research.google.com/github/kmahatma/ssmi-patternrecognition/blob/main/week02_03_list.ipynb\" target=\"_parent\"><img src=\"https://colab.research.google.com/assets/colab-badge.svg\" alt=\"Open In Colab\"/></a>"
      ]
    },
    {
      "cell_type": "code",
      "execution_count": 1,
      "metadata": {
        "colab": {
          "base_uri": "https://localhost:8080/"
        },
        "id": "jozvvUsYtPok",
        "outputId": "9e37989c-ed4d-4621-d7f0-342fe1ea8a91"
      },
      "outputs": [
        {
          "output_type": "stream",
          "name": "stdout",
          "text": [
            "['apple', 'banana', 'cherry']\n"
          ]
        }
      ],
      "source": [
        "# 3.\tList\n",
        "# List merupakan merupakan representasi struktur data yang dapat menyimpan data dengan nilai numerik, karakter, dan lain-lain secara bersamaan\n",
        "list1 = [\"apple\", \"banana\", \"cherry\"]\n",
        "list2 = [1, 5, 7, 9, 3]\n",
        "list3 = [True, False, False]\n",
        "list4 = [\"abc\", 34, True, 40, \"male\"]\n",
        "print(list1);\n",
        "\n",
        "\n"
      ]
    },
    {
      "cell_type": "code",
      "source": [
        "# List: Representasi struktur data yang dapat menyimpan berbagai jenis data\n",
        "\n",
        "# List dengan string\n",
        "list1 = [\"apple\", \"banana\", \"cherry\"]\n",
        "\n",
        "# List dengan angka\n",
        "list2 = [1, 5, 7, 9, 3]\n",
        "\n",
        "# List dengan nilai boolean\n",
        "list3 = [True, False, False]\n",
        "\n",
        "# List dengan berbagai tipe data\n",
        "list4 = [\"abc\", 34, True, 40, \"male\"]\n",
        "\n",
        "# Menampilkan isi list\n",
        "print(\"List 1 (buah-buahan):\", list1)\n",
        "print(\"List 2 (angka):\", list2)\n",
        "print(\"List 3 (boolean):\", list3)\n",
        "print(\"List 4 (campuran):\", list4)\n",
        "\n"
      ],
      "metadata": {
        "colab": {
          "base_uri": "https://localhost:8080/"
        },
        "id": "fhWYtl-1trU5",
        "outputId": "e2d774a7-862e-41e7-e53a-c7f81b45cbec"
      },
      "execution_count": 2,
      "outputs": [
        {
          "output_type": "stream",
          "name": "stdout",
          "text": [
            "List 1 (buah-buahan): ['apple', 'banana', 'cherry']\n",
            "List 2 (angka): [1, 5, 7, 9, 3]\n",
            "List 3 (boolean): [True, False, False]\n",
            "List 4 (campuran): ['abc', 34, True, 40, 'male']\n"
          ]
        }
      ]
    },
    {
      "cell_type": "code",
      "source": [
        "# Contoh akses elemen list\n",
        "print(\"\\nElemen pertama dari list1:\", list1[0])  # apple\n",
        "print(\"Elemen terakhir dari list2:\", list2[-1]) # 3\n",
        "print(\"Subset list4 (elemen ke-2 sampai ke-4):\", list4[1:4]) # [34, True, 40]\n"
      ],
      "metadata": {
        "colab": {
          "base_uri": "https://localhost:8080/"
        },
        "id": "yflZloButwep",
        "outputId": "1854848f-356d-48ee-d570-2c2572625e4b"
      },
      "execution_count": 3,
      "outputs": [
        {
          "output_type": "stream",
          "name": "stdout",
          "text": [
            "\n",
            "Elemen pertama dari list1: apple\n",
            "Elemen terakhir dari list2: 3\n",
            "Subset list4 (elemen ke-2 sampai ke-4): [34, True, 40]\n"
          ]
        }
      ]
    }
  ]
}