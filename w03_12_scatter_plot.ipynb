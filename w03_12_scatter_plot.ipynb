{
  "cells": [
    {
      "cell_type": "markdown",
      "metadata": {
        "id": "view-in-github",
        "colab_type": "text"
      },
      "source": [
        "<a href=\"https://colab.research.google.com/github/kmahatma/ssmi-patternrecognition/blob/main/w03_12_scatter_plot.ipynb\" target=\"_parent\"><img src=\"https://colab.research.google.com/assets/colab-badge.svg\" alt=\"Open In Colab\"/></a>"
      ]
    },
    {
      "cell_type": "code",
      "execution_count": 3,
      "metadata": {
        "colab": {
          "base_uri": "https://localhost:8080/"
        },
        "id": "dscbEzyT06L4",
        "outputId": "882b87a4-c474-443a-8df7-8fc2e07313e6"
      },
      "outputs": [
        {
          "output_type": "stream",
          "name": "stdout",
          "text": [
            "Drive already mounted at /content/drive; to attempt to forcibly remount, call drive.mount(\"/content/drive\", force_remount=True).\n",
            "Current working directory: /content/drive/My Drive/Colab Notebooks/ssmi-pattern-recognition\n"
          ]
        }
      ],
      "source": [
        "# 🚀 Google Drive Setup\n",
        "from google.colab import drive\n",
        "drive.mount('/content/drive')\n",
        "\n",
        "# Set the default working directory\n",
        "\n"
      ]
    },
    {
      "cell_type": "code",
      "source": [
        "import os\n",
        "FOLDER_PATH = '/content/drive/My Drive/Colab Notebooks/ssmi-pattern-recognition/'\n",
        "data_path = \"/content/drive/MyDrive/Colab Notebooks/ssmi-pattern-recognition/prak-03-data/\" # Change this!\n",
        "\n",
        "os.makedirs(FOLDER_PATH, exist_ok=True)\n",
        "os.chdir(FOLDER_PATH)\n",
        "print(f'Current working directory: {os.getcwd()}')"
      ],
      "metadata": {
        "colab": {
          "base_uri": "https://localhost:8080/"
        },
        "id": "sWOUZ8963aWl",
        "outputId": "6c908e7e-db50-4ec2-b298-74345f6a2a84"
      },
      "execution_count": 7,
      "outputs": [
        {
          "output_type": "stream",
          "name": "stdout",
          "text": [
            "Current working directory: /content/drive/My Drive/Colab Notebooks/ssmi-pattern-recognition\n"
          ]
        }
      ]
    },
    {
      "cell_type": "code",
      "execution_count": 10,
      "metadata": {
        "colab": {
          "base_uri": "https://localhost:8080/"
        },
        "id": "bgG6sHD006L5",
        "outputId": "9e570df7-7a27-4bc1-9b8f-944439c4b278"
      },
      "outputs": [
        {
          "output_type": "stream",
          "name": "stdout",
          "text": [
            "Libraries imported.\n"
          ]
        }
      ],
      "source": [
        "# 📌 Import necessary libraries\n",
        "import numpy as np\n",
        "import pandas as pd\n",
        "import matplotlib.pyplot as plt\n",
        "\n",
        "print('Libraries imported.')\n"
      ]
    },
    {
      "cell_type": "code",
      "execution_count": 11,
      "metadata": {
        "colab": {
          "base_uri": "https://localhost:8080/",
          "height": 472
        },
        "id": "yMIcSfri06L6",
        "outputId": "0ef32b2f-8609-4d3e-97f6-81a0b5ec215a"
      },
      "outputs": [
        {
          "output_type": "display_data",
          "data": {
            "text/plain": [
              "<Figure size 640x480 with 1 Axes>"
            ],
            "image/png": "[encoded data removed]"
          },
          "metadata": {}
        }
      ],
      "source": [
        "\n",
        "\n",
        "# reading the database\n",
        "data = pd.read_csv(data_path + \"tips.csv\")\n",
        "\n",
        "# Scatter plot with day against tip\n",
        "plt.scatter(data['day'], data['tip'])\n",
        "\n",
        "# Adding Title to the Plot\n",
        "plt.title(\"Scatter Plot\")\n",
        "\n",
        "# Setting the X and Y labels\n",
        "plt.xlabel('Day')\n",
        "plt.ylabel('Tip')\n",
        "\n",
        "plt.show()\n"
      ]
    }
  ],
  "metadata": {
    "colab": {
      "provenance": [],
      "include_colab_link": true
    },
    "kernelspec": {
      "display_name": "Python 3",
      "language": "python",
      "name": "python3"
    },
    "language_info": {
      "codemirror_mode": {
        "name": "ipython",
        "version": 3
      },
      "file_extension": ".py",
      "mimetype": "text/x-python",
      "name": "python",
      "nbconvert_exporter": "python",
      "pygments_lexer": "ipython3",
      "version": "3.7.12"
    }
  },
  "nbformat": 4,
  "nbformat_minor": 0
}