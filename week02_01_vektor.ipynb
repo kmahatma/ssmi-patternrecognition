{
  "nbformat": 4,
  "nbformat_minor": 0,
  "metadata": {
    "colab": {
      "provenance": [],
      "authorship_tag": "ABX9TyPqsrZSjlYOrGIb6F/8dFAn",
      "include_colab_link": true
    },
    "kernelspec": {
      "name": "python3",
      "display_name": "Python 3"
    },
    "language_info": {
      "name": "python"
    }
  },
  "cells": [
    {
      "cell_type": "markdown",
      "metadata": {
        "id": "view-in-github",
        "colab_type": "text"
      },
      "source": [
        "<a href=\"https://colab.research.google.com/github/kmahatma/ssmi-patternrecognition/blob/main/week02_01_vektor.ipynb\" target=\"_parent\"><img src=\"https://colab.research.google.com/assets/colab-badge.svg\" alt=\"Open In Colab\"/></a>"
      ]
    },
    {
      "cell_type": "code",
      "source": [],
      "metadata": {
        "id": "jgcKyDzfqQr2"
      },
      "execution_count": null,
      "outputs": []
    },
    {
      "cell_type": "code",
      "execution_count": null,
      "metadata": {
        "colab": {
          "base_uri": "https://localhost:8080/"
        },
        "id": "dzbxMRQtZ-tu",
        "outputId": "5a7f63cf-1c18-414a-fa6d-2364fe5dae4a"
      },
      "outputs": [
        {
          "output_type": "stream",
          "name": "stdout",
          "text": [
            "vektor default python\n",
            "\n",
            "[ 1  2  3  4  5  6  7  8  9 10 11 12 13 14 15 16 17 18 19]\n",
            "[ 1  3  5  7  9 11 13 15 17 19]\n",
            "\n",
            "vektor via numpy\n",
            "\n",
            "[1 2 3 4 5]\n",
            "[1.5 2.5 5.  6.  7. ]\n",
            "Dimensi a: 1\n",
            "Shape a: (19,)\n"
          ]
        }
      ],
      "source": [
        "# 1.\tVektor\n",
        "# Deklarasi variabel diawali dengan\n",
        "# Vektor dapat dituliskan dengan dan tanpa bantuan libarary\n",
        "\n",
        "# vektor python numpy with range value import numpy as np\n",
        "# Import the required library\n",
        "import numpy as np\n",
        "\n",
        "# Vektor default Python using numpy.arange\n",
        "print(\"vektor default python\\n\")\n",
        "a = np.arange(1, 20, 1)\n",
        "b = np.arange(1, 20, 2)\n",
        "\n",
        "# Display vectors\n",
        "print(a)\n",
        "print(b)\n",
        "\n",
        "# Vektor via numpy\n",
        "print(\"\\nvektor via numpy\\n\")\n",
        "c = np.array([1, 2, 3, 4, 5])\n",
        "d = np.array([1.5, 2.5, 5, 6, 7])\n",
        "\n",
        "# Display arrays\n",
        "print(c)\n",
        "print(d)\n",
        "\n",
        "# Print shape and dimensions of 'a'\n",
        "print(\"Dimensi a:\", a.ndim)\n",
        "print(\"Shape a:\", a.shape)\n"
      ]
    },
    {
      "cell_type": "markdown",
      "source": [
        "# New section"
      ],
      "metadata": {
        "id": "MAnEfPcAr4R2"
      }
    },
    {
      "cell_type": "code",
      "source": [],
      "metadata": {
        "id": "tQT-KUpxqLym"
      },
      "execution_count": null,
      "outputs": []
    },
    {
      "cell_type": "code",
      "source": [],
      "metadata": {
        "id": "lrwVfG9tqNsC"
      },
      "execution_count": null,
      "outputs": []
    }
  ]
}